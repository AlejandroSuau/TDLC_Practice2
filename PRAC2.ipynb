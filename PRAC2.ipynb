{
 "cells": [
  {
   "cell_type": "markdown",
   "metadata": {},
   "source": [
    "<div style=\"width: 100%; clear: both;\">\n",
    "<div style=\"float: left; width: 50%;\">\n",
    "<img src=\"http://www.uoc.edu/portal/_resources/common/imatges/marca_UOC/UOC_Masterbrand.jpg\", align=\"left\">\n",
    "</div>\n",
    "<div style=\"float: right; width: 50%;\">\n",
    "<p style=\"margin: 0; padding-top: 22px; text-align:right;\">Tipología y ciclo de vida de los datos · PRAC2</p>\n",
    "<p style=\"margin: 0; text-align:right;\">2019-1 · Máster universitario en Ciencia de datos (Data science)</p>\n",
    "<p style=\"margin: 0; text-align:right; padding-button: 100px;\">Estudios de Informática</p>\n",
    "</div>\n",
    "</div>\n",
    "<div style=\"width:100%;\">&nbsp;</div>\n",
    "\n",
    "\n",
    "# PRÁCTICA 2: Estudio de la calidad del vino.\n",
    "\n",
    "Carga de librerías necesarias para el correcto desarrollo del script."
   ]
  },
  {
   "cell_type": "code",
   "execution_count": 206,
   "metadata": {},
   "outputs": [],
   "source": [
    "import pandas as pd\n",
    "import numpy as np\n",
    "import seaborn as sns\n",
    "import matplotlib.pyplot as plt\n",
    "from sklearn.model_selection import train_test_split \n",
    "from sklearn.linear_model import LinearRegression \n",
    "from sklearn.metrics import accuracy_score, confusion_matrix\n",
    "from sklearn.preprocessing import StandardScaler\n",
    "from sklearn.metrics import mean_squared_error\n",
    "from math import sqrt\n",
    "from scipy.stats import shapiro, fligner, mannwhitneyu"
   ]
  },
  {
   "cell_type": "markdown",
   "metadata": {},
   "source": [
    "Carga del fichero de datos y visualizamos su información (1599 registros con 12 características distintas):"
   ]
  },
  {
   "cell_type": "code",
   "execution_count": 3,
   "metadata": {},
   "outputs": [
    {
     "name": "stdout",
     "output_type": "stream",
     "text": [
      "<class 'pandas.core.frame.DataFrame'>\n",
      "RangeIndex: 1599 entries, 0 to 1598\n",
      "Data columns (total 12 columns):\n",
      "fixed acidity           1599 non-null float64\n",
      "volatile acidity        1599 non-null float64\n",
      "citric acid             1599 non-null float64\n",
      "residual sugar          1599 non-null float64\n",
      "chlorides               1599 non-null float64\n",
      "free sulfur dioxide     1599 non-null float64\n",
      "total sulfur dioxide    1599 non-null float64\n",
      "density                 1599 non-null float64\n",
      "pH                      1599 non-null float64\n",
      "sulphates               1599 non-null float64\n",
      "alcohol                 1599 non-null float64\n",
      "quality                 1599 non-null int64\n",
      "dtypes: float64(11), int64(1)\n",
      "memory usage: 150.0 KB\n"
     ]
    }
   ],
   "source": [
    "df = pd.read_csv(\"winequality-red.csv\", sep=';')\n",
    "df.info()"
   ]
  },
  {
   "cell_type": "markdown",
   "metadata": {},
   "source": [
    "Comprobamos que el dataset no dispone de valores null."
   ]
  },
  {
   "cell_type": "code",
   "execution_count": 5,
   "metadata": {},
   "outputs": [
    {
     "data": {
      "text/plain": [
       "fixed acidity           0\n",
       "volatile acidity        0\n",
       "citric acid             0\n",
       "residual sugar          0\n",
       "chlorides               0\n",
       "free sulfur dioxide     0\n",
       "total sulfur dioxide    0\n",
       "density                 0\n",
       "pH                      0\n",
       "sulphates               0\n",
       "alcohol                 0\n",
       "quality                 0\n",
       "dtype: int64"
      ]
     },
     "execution_count": 5,
     "metadata": {},
     "output_type": "execute_result"
    }
   ],
   "source": [
    "df.isnull().sum()"
   ]
  },
  {
   "cell_type": "markdown",
   "metadata": {},
   "source": [
    "Utilizamos el método IQR (Interquartile range) para visualizar los outliers (Aquellos distintos de NaN en los que se muestra el valor)."
   ]
  },
  {
   "cell_type": "code",
   "execution_count": 46,
   "metadata": {
    "scrolled": false
   },
   "outputs": [
    {
     "name": "stdout",
     "output_type": "stream",
     "text": [
      "      fixed acidity  volatile acidity  citric acid  residual sugar  chlorides  \\\n",
      "0               NaN               NaN          NaN             NaN        NaN   \n",
      "1               NaN               NaN          NaN             NaN        NaN   \n",
      "2               NaN               NaN          NaN             NaN        NaN   \n",
      "3               NaN               NaN          NaN             NaN        NaN   \n",
      "4               NaN               NaN          NaN             NaN        NaN   \n",
      "5               NaN               NaN          NaN             NaN        NaN   \n",
      "6               NaN               NaN          NaN             NaN        NaN   \n",
      "7               NaN               NaN          NaN             NaN        NaN   \n",
      "8               NaN               NaN          NaN             NaN        NaN   \n",
      "9               NaN               NaN          NaN             6.1        NaN   \n",
      "10              NaN               NaN          NaN             NaN        NaN   \n",
      "11              NaN               NaN          NaN             6.1        NaN   \n",
      "12              NaN               NaN          NaN             NaN        NaN   \n",
      "13              NaN               NaN          NaN             NaN        NaN   \n",
      "14              NaN               NaN          NaN             3.8      0.176   \n",
      "15              NaN               NaN          NaN             3.9      0.170   \n",
      "16              NaN               NaN          NaN             NaN        NaN   \n",
      "17              NaN               NaN          NaN             NaN      0.368   \n",
      "18              NaN               NaN          NaN             4.4        NaN   \n",
      "19              NaN               NaN          NaN             NaN      0.341   \n",
      "20              NaN               NaN          NaN             NaN        NaN   \n",
      "21              NaN               NaN          NaN             NaN        NaN   \n",
      "22              NaN               NaN          NaN             NaN        NaN   \n",
      "23              NaN               NaN          NaN             NaN        NaN   \n",
      "24              NaN               NaN          NaN             NaN        NaN   \n",
      "25              NaN               NaN          NaN             NaN        NaN   \n",
      "26              NaN               NaN          NaN             NaN        NaN   \n",
      "27              NaN               NaN          NaN             NaN        NaN   \n",
      "28              NaN               NaN          NaN             NaN        NaN   \n",
      "29              NaN               NaN          NaN             NaN        NaN   \n",
      "...             ...               ...          ...             ...        ...   \n",
      "1569            NaN               NaN          NaN             NaN        NaN   \n",
      "1570            NaN               NaN          NaN             NaN      0.230   \n",
      "1571            NaN               NaN          NaN             NaN      0.038   \n",
      "1572            NaN               NaN          NaN             NaN        NaN   \n",
      "1573            NaN               NaN          NaN             NaN        NaN   \n",
      "1574            NaN               NaN          NaN            13.9        NaN   \n",
      "1575            NaN               NaN          NaN             NaN        NaN   \n",
      "1576            NaN               NaN          NaN             NaN        NaN   \n",
      "1577            NaN               NaN          NaN             5.1        NaN   \n",
      "1578            NaN               NaN          NaN             NaN        NaN   \n",
      "1579            NaN               NaN          NaN             NaN        NaN   \n",
      "1580            NaN               NaN          NaN             NaN        NaN   \n",
      "1581            NaN               NaN          NaN             NaN        NaN   \n",
      "1582            NaN               NaN          NaN             NaN        NaN   \n",
      "1583            NaN               NaN          NaN             NaN        NaN   \n",
      "1584            NaN               NaN          NaN             NaN        NaN   \n",
      "1585            NaN               NaN          NaN             NaN        NaN   \n",
      "1586            NaN               NaN          NaN             NaN        NaN   \n",
      "1587            NaN               NaN          NaN             NaN        NaN   \n",
      "1588            NaN               NaN          NaN             NaN        NaN   \n",
      "1589            NaN               NaN          NaN             7.8        NaN   \n",
      "1590            NaN               NaN          NaN             NaN        NaN   \n",
      "1591            NaN               NaN          NaN             NaN        NaN   \n",
      "1592            NaN               NaN          NaN             NaN        NaN   \n",
      "1593            NaN               NaN          NaN             NaN        NaN   \n",
      "1594            NaN               NaN          NaN             NaN        NaN   \n",
      "1595            NaN               NaN          NaN             NaN        NaN   \n",
      "1596            NaN               NaN          NaN             NaN        NaN   \n",
      "1597            NaN               NaN          NaN             NaN        NaN   \n",
      "1598            NaN               NaN          NaN             NaN        NaN   \n",
      "\n",
      "      free sulfur dioxide  total sulfur dioxide  density  pH  sulphates  \\\n",
      "0                     NaN                   NaN      NaN NaN        NaN   \n",
      "1                     NaN                   NaN      NaN NaN        NaN   \n",
      "2                     NaN                   NaN      NaN NaN        NaN   \n",
      "3                     NaN                   NaN      NaN NaN        NaN   \n",
      "4                     NaN                   NaN      NaN NaN        NaN   \n",
      "5                     NaN                   NaN      NaN NaN        NaN   \n",
      "6                     NaN                   NaN      NaN NaN        NaN   \n",
      "7                     NaN                   NaN      NaN NaN        NaN   \n",
      "8                     NaN                   NaN      NaN NaN        NaN   \n",
      "9                     NaN                   NaN      NaN NaN        NaN   \n",
      "10                    NaN                   NaN      NaN NaN        NaN   \n",
      "11                    NaN                   NaN      NaN NaN        NaN   \n",
      "12                    NaN                   NaN      NaN NaN        NaN   \n",
      "13                    NaN                   NaN      NaN NaN       1.56   \n",
      "14                   52.0                 145.0      NaN NaN        NaN   \n",
      "15                   51.0                 148.0      NaN NaN        NaN   \n",
      "16                    NaN                   NaN      NaN NaN        NaN   \n",
      "17                    NaN                   NaN      NaN NaN       1.28   \n",
      "18                    NaN                   NaN      NaN NaN        NaN   \n",
      "19                    NaN                   NaN      NaN NaN       1.08   \n",
      "20                    NaN                   NaN      NaN NaN        NaN   \n",
      "21                    NaN                   NaN      NaN NaN        NaN   \n",
      "22                    NaN                   NaN      NaN NaN        NaN   \n",
      "23                    NaN                   NaN      NaN NaN        NaN   \n",
      "24                    NaN                   NaN      NaN NaN        NaN   \n",
      "25                    NaN                   NaN      NaN NaN        NaN   \n",
      "26                    NaN                   NaN      NaN NaN        NaN   \n",
      "27                    NaN                   NaN      NaN NaN        NaN   \n",
      "28                    NaN                   NaN      NaN NaN        NaN   \n",
      "29                    NaN                   NaN      NaN NaN        NaN   \n",
      "...                   ...                   ...      ...  ..        ...   \n",
      "1569                  NaN                   NaN      NaN NaN        NaN   \n",
      "1570                  NaN                   NaN      NaN NaN        NaN   \n",
      "1571                  NaN                   NaN      NaN NaN        NaN   \n",
      "1572                  NaN                   NaN      NaN NaN        NaN   \n",
      "1573                  NaN                   NaN      NaN NaN        NaN   \n",
      "1574                  NaN                   NaN      NaN NaN        NaN   \n",
      "1575                  NaN                   NaN      NaN NaN        NaN   \n",
      "1576                  NaN                   NaN      NaN NaN        NaN   \n",
      "1577                  NaN                   NaN      NaN NaN        NaN   \n",
      "1578                  NaN                   NaN      NaN NaN        NaN   \n",
      "1579                  NaN                   NaN      NaN NaN        NaN   \n",
      "1580                  NaN                   NaN      NaN NaN        NaN   \n",
      "1581                  NaN                   NaN      NaN NaN        NaN   \n",
      "1582                  NaN                   NaN      NaN NaN        NaN   \n",
      "1583                  NaN                   NaN      NaN NaN        NaN   \n",
      "1584                  NaN                   NaN      NaN NaN        NaN   \n",
      "1585                  NaN                   NaN      NaN NaN        NaN   \n",
      "1586                  NaN                   NaN      NaN NaN        NaN   \n",
      "1587                  NaN                   NaN      NaN NaN        NaN   \n",
      "1588                  NaN                   NaN      NaN NaN        NaN   \n",
      "1589                  NaN                   NaN      NaN NaN        NaN   \n",
      "1590                  NaN                   NaN      NaN NaN        NaN   \n",
      "1591                  NaN                   NaN      NaN NaN        NaN   \n",
      "1592                  NaN                   NaN      NaN NaN        NaN   \n",
      "1593                  NaN                   NaN      NaN NaN        NaN   \n",
      "1594                  NaN                   NaN      NaN NaN        NaN   \n",
      "1595                  NaN                   NaN      NaN NaN        NaN   \n",
      "1596                  NaN                   NaN      NaN NaN        NaN   \n",
      "1597                  NaN                   NaN      NaN NaN        NaN   \n",
      "1598                  NaN                   NaN      NaN NaN        NaN   \n",
      "\n",
      "      alcohol  quality  \n",
      "0         NaN      NaN  \n",
      "1         NaN      NaN  \n",
      "2         NaN      NaN  \n",
      "3         NaN      NaN  \n",
      "4         NaN      NaN  \n",
      "5         NaN      NaN  \n",
      "6         NaN      NaN  \n",
      "7         NaN      NaN  \n",
      "8         NaN      NaN  \n",
      "9         NaN      NaN  \n",
      "10        NaN      NaN  \n",
      "11        NaN      NaN  \n",
      "12        NaN      NaN  \n",
      "13        NaN      NaN  \n",
      "14        NaN      NaN  \n",
      "15        NaN      NaN  \n",
      "16        NaN      NaN  \n",
      "17        NaN      NaN  \n",
      "18        NaN      NaN  \n",
      "19        NaN      NaN  \n",
      "20        NaN      NaN  \n",
      "21        NaN      NaN  \n",
      "22        NaN      NaN  \n",
      "23        NaN      NaN  \n",
      "24        NaN      NaN  \n",
      "25        NaN      NaN  \n",
      "26        NaN      NaN  \n",
      "27        NaN      NaN  \n",
      "28        NaN      NaN  \n",
      "29        NaN      NaN  \n",
      "...       ...      ...  \n",
      "1569      NaN      NaN  \n",
      "1570      NaN      NaN  \n",
      "1571      NaN      NaN  \n",
      "1572      NaN      NaN  \n",
      "1573      NaN      NaN  \n",
      "1574      NaN      NaN  \n",
      "1575      NaN      NaN  \n",
      "1576      NaN      NaN  \n",
      "1577      NaN      NaN  \n",
      "1578      NaN      NaN  \n",
      "1579      NaN      NaN  \n",
      "1580      NaN      NaN  \n",
      "1581      NaN      NaN  \n",
      "1582      NaN      NaN  \n",
      "1583      NaN      NaN  \n",
      "1584      NaN      NaN  \n",
      "1585      NaN      NaN  \n",
      "1586      NaN      NaN  \n",
      "1587      NaN      NaN  \n",
      "1588      NaN      NaN  \n",
      "1589      NaN      NaN  \n",
      "1590      NaN      NaN  \n",
      "1591      NaN      NaN  \n",
      "1592      NaN      NaN  \n",
      "1593      NaN      NaN  \n",
      "1594      NaN      NaN  \n",
      "1595      NaN      NaN  \n",
      "1596      NaN      NaN  \n",
      "1597      NaN      NaN  \n",
      "1598      NaN      NaN  \n",
      "\n",
      "[1599 rows x 12 columns]\n"
     ]
    }
   ],
   "source": [
    "Q1 = df.quantile(0.25)\n",
    "Q3 = df.quantile(0.75)\n",
    "IQR = Q3 - Q1\n",
    "\n",
    "IQR_df = (df < (Q1 - 1.5 * IQR)) | (df > (Q3 + 1.5 * IQR))\n",
    "print(df[IQR_df == True])"
   ]
  },
  {
   "cell_type": "markdown",
   "metadata": {},
   "source": [
    "Podríamos eliminar los outliers encontrados, de la siguiente manera (aunque, como podemos comprobar, perderíamos muchos registros y, muchos de ellos, pese a ser ouliers, podrían ser perfectamente reales). Por ello, no los eliminaremos."
   ]
  },
  {
   "cell_type": "code",
   "execution_count": 47,
   "metadata": {},
   "outputs": [
    {
     "data": {
      "text/plain": [
       "(1179, 12)"
      ]
     },
     "execution_count": 47,
     "metadata": {},
     "output_type": "execute_result"
    }
   ],
   "source": [
    "df_out = df[~((df < (Q1 - 1.5 * IQR)) | (df > (Q3 + 1.5 * IQR))).any(axis=1)]\n",
    "df_out.shape"
   ]
  },
  {
   "cell_type": "markdown",
   "metadata": {},
   "source": [
    "Selección de grupos: Malos, Normales y Excelentes."
   ]
  },
  {
   "cell_type": "code",
   "execution_count": 149,
   "metadata": {},
   "outputs": [],
   "source": [
    "def add_quality_tag(row):\n",
    "    if row['quality'] >= 1 and row['quality'] <= 3:\n",
    "        return 'bad'\n",
    "    elif row['quality'] >= 4 and row['quality'] <= 7:\n",
    "        return 'average'\n",
    "    elif row['quality'] >= 8 and row['quality'] <= 10:\n",
    "        return 'excellent'\n",
    "    \n",
    "bad_wines = df[(df.quality >= 1) & (df.quality <= 3)]\n",
    "average_wines = df[(df.quality >= 4) & (df.quality <= 7)]\n",
    "excellent_wines = df[(df.quality >= 8) & (df.quality <= 10)]\n",
    "\n",
    "df['tag'] = df.apply(add_quality_tag, axis=1)"
   ]
  },
  {
   "cell_type": "markdown",
   "metadata": {},
   "source": [
    "Comprobación de la normalidad. Prueba de Shapiro-Wilk."
   ]
  },
  {
   "cell_type": "code",
   "execution_count": 99,
   "metadata": {},
   "outputs": [
    {
     "name": "stdout",
     "output_type": "stream",
     "text": [
      "Variables que no siguen una distribución normal:\n",
      "- fixed acidity\n",
      "- volatile acidity\n",
      "- citric acid\n",
      "- residual sugar\n",
      "- chlorides\n",
      "- free sulfur dioxide\n",
      "- total sulfur dioxide\n",
      "- density\n",
      "- pH\n",
      "- sulphates\n",
      "- alcohol\n",
      "- quality\n"
     ]
    }
   ],
   "source": [
    "alpha = 0.05\n",
    "print(\"Variables que no siguen una distribución normal:\")\n",
    "for i, col in enumerate(df.columns):\n",
    "    result = shapiro(df[col])\n",
    "    if result[1] < alpha:\n",
    "        print(\"-\", col)"
   ]
  },
  {
   "cell_type": "markdown",
   "metadata": {},
   "source": [
    "Estudio de la homogeneidad de varianzas mediante la aplicación de un test de Fligner-Killen; debido a su no normalización de los datos."
   ]
  },
  {
   "cell_type": "code",
   "execution_count": 150,
   "metadata": {},
   "outputs": [
    {
     "name": "stdout",
     "output_type": "stream",
     "text": [
      "False\n",
      "False\n",
      "False\n"
     ]
    }
   ],
   "source": [
    "badw_fligner = fligner(bad_wines.quality, bad_wines.alcohol)\n",
    "averagew_fligner = fligner(average_wines.quality, average_wines.alcohol)\n",
    "excellentw_fligner = fligner(excellent_wines.quality, excellent_wines.alcohol)\n",
    "\n",
    "print(badw_fligner.pvalue > alpha)\n",
    "print(averagew_fligner.pvalue > alpha)\n",
    "print(excellentw_fligner.pvalue > alpha)"
   ]
  },
  {
   "cell_type": "markdown",
   "metadata": {},
   "source": [
    "Pruebas Estadísticas:"
   ]
  },
  {
   "cell_type": "markdown",
   "metadata": {},
   "source": [
    "Análisis de la correlación entre variables."
   ]
  },
  {
   "cell_type": "code",
   "execution_count": 165,
   "metadata": {},
   "outputs": [
    {
     "data": {
      "image/png": "[encoded data removed]",
      "text/plain": [
       "<Figure size 720x720 with 2 Axes>"
      ]
     },
     "metadata": {
      "needs_background": "light"
     },
     "output_type": "display_data"
    }
   ],
   "source": [
    "f,ax=plt.subplots(figsize=(10,10))\n",
    "sns.heatmap(df.corr(),annot=True,linewidth=.5,fmt='.1f',ax=ax)\n",
    "plt.show()"
   ]
  },
  {
   "cell_type": "markdown",
   "metadata": {},
   "source": [
    "Comprobamos como están repartido el alcohol según el tipo de tag asignada."
   ]
  },
  {
   "cell_type": "code",
   "execution_count": 161,
   "metadata": {},
   "outputs": [
    {
     "data": {
      "image/png": "[encoded data removed]",
      "text/plain": [
       "<Figure size 690.375x216 with 3 Axes>"
      ]
     },
     "metadata": {
      "needs_background": "light"
     },
     "output_type": "display_data"
    }
   ],
   "source": [
    "g = sns.FacetGrid(df, col=\"tag\",  hue=\"quality\")\n",
    "g = (g.map(plt.scatter, \"alcohol\", \"quality\", edgecolor=\"w\").add_legend())"
   ]
  },
  {
   "cell_type": "markdown",
   "metadata": {},
   "source": [
    "Realizamos el test no paramétrico de Mann-Whitney."
   ]
  },
  {
   "cell_type": "code",
   "execution_count": 163,
   "metadata": {},
   "outputs": [
    {
     "name": "stdout",
     "output_type": "stream",
     "text": [
      "True\n"
     ]
    }
   ],
   "source": [
    "alpha = 0.05\n",
    "manwhitney_result = mannwhitneyu(average_wines['alcohol'], excellent_wines['alcohol'])\n",
    "print(manwhitney_result.pvalue < alpha)"
   ]
  },
  {
   "cell_type": "markdown",
   "metadata": {},
   "source": [
    "Modelo de Regresión Lineal."
   ]
  },
  {
   "cell_type": "code",
   "execution_count": 172,
   "metadata": {},
   "outputs": [
    {
     "data": {
      "text/plain": [
       "fixed acidity           0.124052\n",
       "volatile acidity       -0.390558\n",
       "citric acid             0.226373\n",
       "residual sugar          0.013732\n",
       "chlorides              -0.128907\n",
       "free sulfur dioxide    -0.050656\n",
       "total sulfur dioxide   -0.185100\n",
       "density                -0.174919\n",
       "pH                     -0.057731\n",
       "sulphates               0.251397\n",
       "alcohol                 0.476166\n",
       "Name: quality, dtype: float64"
      ]
     },
     "execution_count": 172,
     "metadata": {},
     "output_type": "execute_result"
    }
   ],
   "source": [
    "correlations = df.corr()['quality'].drop('quality')\n",
    "correlations"
   ]
  },
  {
   "cell_type": "code",
   "execution_count": 191,
   "metadata": {},
   "outputs": [],
   "source": [
    "def get_features(correlation_threshold):\n",
    "    abs_corrs = correlations.abs()\n",
    "    high_correlations = abs_corrs[abs_corrs > correlation_threshold].index.values.tolist()\n",
    "    return high_correlations"
   ]
  },
  {
   "cell_type": "markdown",
   "metadata": {},
   "source": [
    "Obtenemos aquellas características cuya correlación es superior a 0.05 como input x y la calidad como variable objetivo y."
   ]
  },
  {
   "cell_type": "code",
   "execution_count": 193,
   "metadata": {},
   "outputs": [],
   "source": [
    "features = get_features(0.05) \n",
    "x = df[features] \n",
    "y = df['quality']"
   ]
  },
  {
   "cell_type": "code",
   "execution_count": 197,
   "metadata": {},
   "outputs": [],
   "source": [
    "x_train,x_test,y_train,y_test=train_test_split(x,y,random_state=3)"
   ]
  },
  {
   "cell_type": "code",
   "execution_count": 198,
   "metadata": {},
   "outputs": [
    {
     "name": "stdout",
     "output_type": "stream",
     "text": [
      "[ 0.01773723 -0.99256049 -0.13962865 -1.59094279  0.00559652 -0.00351973\n",
      "  0.76859036 -0.43741414  0.81288805  0.30148385]\n"
     ]
    }
   ],
   "source": [
    "regressor = LinearRegression()\n",
    "regressor.fit(x_train,y_train)\n",
    "  \n",
    "print(regressor.coef_)"
   ]
  },
  {
   "cell_type": "code",
   "execution_count": 204,
   "metadata": {},
   "outputs": [
    {
     "name": "stdout",
     "output_type": "stream",
     "text": [
      "[5.10801475 5.65933623 5.90407267 6.13461179 5.00611866 5.44514691\n",
      " 5.05735245 6.15497513 5.51919603 5.77259374 5.61809366 5.23616173\n",
      " 5.23544213 5.31968644 6.47007277 5.043404   5.85287121 5.19427909\n",
      " 6.07727089 6.34949018 6.42525555 5.51221957 5.8030796  4.93637817\n",
      " 5.16618356 5.48255293 5.13758624 6.60000969 5.88754763 5.74133915\n",
      " 6.09716961 6.29379754 4.91269821 5.88611904 5.11007273 5.94574773\n",
      " 6.80685536 5.04305653 5.25438683 5.88611904 5.17406542 4.84008442\n",
      " 6.48781656 5.40521715 5.31105571 5.84484462 5.7100681  5.24300809\n",
      " 5.25021217 5.46398911 5.08740494 5.61369555 6.01375792 6.32497377\n",
      " 5.47511954 5.36466869 5.09234555 4.92625623 5.21415941 5.08274744\n",
      " 4.79570013 5.4377645  5.25237771 5.68830391 5.85145609 6.52420079\n",
      " 5.38691412 5.71775637 5.17641417 5.99156845 5.6445189  5.60892012\n",
      " 5.74967567 5.21702288 5.97975854 5.51115845 5.41121547 5.6832459\n",
      " 5.63971524 5.74133915 6.24163428 5.27915822 4.66596769 6.04951743\n",
      " 5.52401618 5.17823915 5.20672986 5.96322663 5.50411353 5.64866275\n",
      " 5.70105618 5.6431575  5.72586828 5.3173125  5.37075392 5.394889\n",
      " 4.82061159 5.46006525 5.47363879 6.54074801 6.13723937 5.61422461\n",
      " 6.07821503 6.17461539 5.73230665 4.92692198 4.73317591 5.03851027\n",
      " 5.44868797 5.78432759 6.46608259 5.47530673 6.46876056 5.94466642\n",
      " 5.43257493 5.20523855 5.34551741 5.20749557 6.19344578 5.61453943\n",
      " 5.83308923 5.20267759 5.17702922 5.26912156 5.74382704 5.6431575\n",
      " 6.15450941 5.89677877 5.49186029 5.39047629 5.25848318 5.41150099\n",
      " 5.70750135 5.68001376 6.58288921 5.89497164 6.37172338 5.72945992\n",
      " 5.37936908 5.14371952 5.58851063 6.59661777 5.24403336 5.25594627\n",
      " 5.54721935 5.17243958 5.76990082 6.10847777 6.93985005 4.99562031\n",
      " 5.01958735 4.68547026 5.82434616 5.01708671 5.21702288 5.70819215\n",
      " 5.63334181 5.33481542 5.22220103 5.84327644 5.61823023 5.78078643\n",
      " 5.51830906 6.03898671 5.63808482 5.49193476 5.96787582 4.82363567\n",
      " 5.26331016 5.6625652  5.73510278 6.59570394 5.02584187 5.9062506\n",
      " 5.85381667 5.21140744 5.68951564 5.51649995 5.40521715 6.37974889\n",
      " 6.71642336 4.98858413 5.88413601 5.75553621 5.75508093 5.61677128\n",
      " 5.71318209 5.40944809 6.05634078 5.58276397 5.88366084 6.51928901\n",
      " 5.00668628 5.4022397  5.18103224 5.17641417 5.47511954 5.7498414\n",
      " 5.69035164 4.92770738 5.12908401 4.98756458 6.18242395 5.65384546\n",
      " 5.45261211 5.56461849 4.99367423 5.8451887  5.31537513 5.48096741\n",
      " 5.69721582 5.63441998 5.69158339 5.82596777 5.79120742 6.02976291\n",
      " 6.20119324 5.2711036  5.04432824 5.21865445 5.38560996 4.97814926\n",
      " 6.21495495 5.44287205 5.94855371 5.21554859 6.61250215 5.08358009\n",
      " 5.29397027 5.0345619  6.16924449 5.78078489 4.85807345 5.74347603\n",
      " 5.29957538 5.35504601 5.17674741 6.30056659 5.58203663 4.95859588\n",
      " 6.10234044 6.03135183 6.16235396 5.41939397 6.76220041 6.20905743\n",
      " 6.08858508 5.2295158  5.45339068 5.54357835 5.35504601 5.24163328\n",
      " 5.74950618 5.25054347 6.1317778  5.42684978 5.84929436 4.82101128\n",
      " 6.06442799 5.06580635 6.43296901 6.06017586 5.69914195 5.70750135\n",
      " 4.90849494 6.00470504 5.28204515 5.70851728 5.42245606 5.12401141\n",
      " 6.4859156  5.3065303  5.97368396 5.64309435 6.49134579 6.20544121\n",
      " 5.09817253 5.47044255 5.30164692 5.24148223 6.37172338 5.38111102\n",
      " 5.41238036 6.00040309 4.98474017 5.89003832 5.35695446 5.18204386\n",
      " 5.43418226 5.92040958 4.83001281 6.84476407 5.17004942 4.90738182\n",
      " 5.71686848 5.6789345  5.30006437 6.28821696 6.8852049  6.5809374\n",
      " 5.94544069 6.3372236  5.90511355 5.56832499 6.0037674  5.51592572\n",
      " 5.47416032 5.73230665 5.31523101 5.15200739 6.22058683 5.30080495\n",
      " 6.2234137  6.09823805 5.86965547 5.42671619 4.83521332 6.04105625\n",
      " 5.17954177 5.11991572 6.45483786 5.50117269 6.75189479 5.112668\n",
      " 5.16698378 5.30775351 5.71062442 5.10611189 5.54132974 5.3123985\n",
      " 5.16102307 4.95778371 5.4565424  5.38281735 5.34456446 5.18064244\n",
      " 6.11817384 5.624629   5.7335454  6.34845774 5.90187012 5.51649995\n",
      " 5.69382597 5.14872878 5.70431206 6.40518994 6.17170859 5.46670957\n",
      " 6.06382552 5.69529022 6.24040985 5.24148223 5.5445765  5.04703379\n",
      " 4.99563993 5.07398398 5.81020153 5.40277302 5.9958201  5.1304824\n",
      " 6.51949038 5.39875246 5.49117974 5.64759732 5.52711217 5.27288466\n",
      " 6.49134579 5.83141585 5.03473182 5.24121201 5.49075176 5.27342775\n",
      " 5.5118796  5.04396982 5.29167137 5.46007816 5.36402691 6.12719352\n",
      " 4.99200331 5.30164692 6.08655307 5.20523855 5.13058231 4.66155684\n",
      " 6.15823093 6.15917286 6.50582017 5.80335212 5.74347603 6.39828821\n",
      " 6.14436092 5.88754763 6.05466721 6.03231119 5.36683868 5.41989769\n",
      " 5.61706715 5.4057693  5.76283208 5.2734642 ]\n"
     ]
    }
   ],
   "source": [
    "test_pred = regressor.predict(x_test) \n",
    "print(test_pred)"
   ]
  },
  {
   "cell_type": "markdown",
   "metadata": {},
   "source": [
    "Evaluamos la efectividad del modelo."
   ]
  },
  {
   "cell_type": "code",
   "execution_count": 216,
   "metadata": {},
   "outputs": [
    {
     "data": {
      "text/plain": [
       "0.6275381539230979"
      ]
     },
     "execution_count": 216,
     "metadata": {},
     "output_type": "execute_result"
    }
   ],
   "source": [
    "rmse = sqrt(mean_squared_error(y_test, test_pred))\n",
    "rmse"
   ]
  },
  {
   "cell_type": "markdown",
   "metadata": {},
   "source": [
    "Evaluamos cómo están repartidos los valores de la predicción."
   ]
  },
  {
   "cell_type": "code",
   "execution_count": 227,
   "metadata": {},
   "outputs": [
    {
     "data": {
      "image/png": "[encoded data removed]",
      "text/plain": [
       "<Figure size 720x720 with 1 Axes>"
      ]
     },
     "metadata": {
      "needs_background": "light"
     },
     "output_type": "display_data"
    }
   ],
   "source": [
    "plt.figure(figsize=(10,10))\n",
    "plt.scatter(test_pred, y_test)\n",
    "plt.show()"
   ]
  },
  {
   "cell_type": "markdown",
   "metadata": {},
   "source": [
    "Utilizamos también un boxplot."
   ]
  },
  {
   "cell_type": "code",
   "execution_count": 232,
   "metadata": {},
   "outputs": [
    {
     "data": {
      "text/plain": [
       "{'whiskers': [<matplotlib.lines.Line2D at 0x22f26acc240>,\n",
       "  <matplotlib.lines.Line2D at 0x22f2794fc88>],\n",
       " 'caps': [<matplotlib.lines.Line2D at 0x22f2794ffd0>,\n",
       "  <matplotlib.lines.Line2D at 0x22f2795a358>],\n",
       " 'boxes': [<matplotlib.lines.Line2D at 0x22f2794f550>],\n",
       " 'medians': [<matplotlib.lines.Line2D at 0x22f2795a6a0>],\n",
       " 'fliers': [<matplotlib.lines.Line2D at 0x22f2795a9e8>],\n",
       " 'means': []}"
      ]
     },
     "execution_count": 232,
     "metadata": {},
     "output_type": "execute_result"
    },
    {
     "data": {
      "image/png": "[encoded data removed]",
      "text/plain": [
       "<Figure size 432x288 with 1 Axes>"
      ]
     },
     "metadata": {
      "needs_background": "light"
     },
     "output_type": "display_data"
    }
   ],
   "source": [
    "plt.boxplot(test_pred)"
   ]
  },
  {
   "cell_type": "code",
   "execution_count": null,
   "metadata": {},
   "outputs": [],
   "source": []
  }
 ],
 "metadata": {
  "kernelspec": {
   "display_name": "Python 3",
   "language": "python",
   "name": "python3"
  },
  "language_info": {
   "codemirror_mode": {
    "name": "ipython",
    "version": 3
   },
   "file_extension": ".py",
   "mimetype": "text/x-python",
   "name": "python",
   "nbconvert_exporter": "python",
   "pygments_lexer": "ipython3",
   "version": "3.7.1"
  }
 },
 "nbformat": 4,
 "nbformat_minor": 2
}
